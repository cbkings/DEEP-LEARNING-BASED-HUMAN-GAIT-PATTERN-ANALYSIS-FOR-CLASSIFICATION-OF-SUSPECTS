{
 "cells": [
  {
   "cell_type": "code",
   "execution_count": 6,
   "id": "86c49f9b",
   "metadata": {},
   "outputs": [],
   "source": [
    "import mediapipe as mp\n",
    "import cv2\n",
    "import os\n",
    "import time\n",
    "import numpy as np\n",
    "import matplotlib.pyplot as plt\n",
    "import itertools as itr\n",
    "import pprint, pickle\n",
    "import pandas as pd\n",
    "\n",
    "mp_drawing = mp.solutions.drawing_utils\n",
    "mp_holistic = mp.solutions.holistic\n",
    "mp_pose = mp.solutions.pose"
   ]
  },
  {
   "cell_type": "code",
   "execution_count": 7,
   "id": "44ea429c",
   "metadata": {},
   "outputs": [
    {
     "name": "stdout",
     "output_type": "stream",
     "text": [
      "Name: test\n",
      "Please enter the camera angle (side or front): side\n",
      "Please enter the direction (left/right/front/back): right\n",
      "Please enter the video number: 1\n"
     ]
    }
   ],
   "source": [
    "# Prompt the user for input and define the variables\n",
    "name = input(\"Name: \")\n",
    "cam_angle = input(\"Please enter the camera angle (side or front): \")\n",
    "direction = input(\"Please enter the direction (left/right/front/back): \")\n",
    "vid_no = input(\"Please enter the video number: \")\n",
    "\n"
   ]
  },
  {
   "cell_type": "code",
   "execution_count": 9,
   "id": "7adafcbe",
   "metadata": {},
   "outputs": [
    {
     "name": "stdout",
     "output_type": "stream",
     "text": [
      "Total frames: 138\n",
      "fps of the video:  30.0\n",
      "last detected frame time:  4.6\n",
      "Total frames: 138\n",
      "<_io.BufferedWriter name='new_key_arrays_all/new_test_key_arrays/side/right/key_array_test_right.pkl'>\n",
      "           \n"
     ]
    }
   ],
   "source": [
    "import tkinter as tk\n",
    "from tkinter import filedialog\n",
    "import cv2\n",
    "\n",
    "# Create a Tkinter root window\n",
    "root = tk.Tk()\n",
    "root.withdraw()\n",
    "\n",
    "# Open a file dialog box to select the video file\n",
    "video_path = filedialog.askopenfilename(filetypes=[(\"Video files\", \"*.mp4\")])\n",
    "\n",
    "#video_path=\"/home/cbk/Music/Prediction_video_set/fps_30/front/normal/yohan_normal_front_3.mp4\"\n",
    "cap = cv2.VideoCapture(video_path)\n",
    "\n",
    "# Get total number of frames in the video\n",
    "total_frames = int(cap.get(cv2.CAP_PROP_FRAME_COUNT))\n",
    "print(\"Total frames:\", total_frames)\n",
    "fps_vid = cap.get(cv2.CAP_PROP_FPS)\n",
    "print('fps of the video: ',fps_vid)\n",
    "\n",
    "myarray = np.empty(shape=(0,33,5))  # initialize with empty array\n",
    "\n",
    "# Initiate pose model\n",
    "with mp_pose.Pose(min_detection_confidence=0.5, min_tracking_confidence=0.5) as pose:\n",
    "    idx=0\n",
    "    while cap.isOpened():\n",
    "\n",
    "        ret, frame = cap.read()\n",
    "        if ret:\n",
    "\n",
    "            # Get the current frame number\n",
    "            frame_num = int(cap.get(cv2.CAP_PROP_POS_FRAMES))\n",
    "            #print(\"Frame number:\", frame_num)\n",
    "\n",
    "            # Recolor Feed\n",
    "            image = cv2.cvtColor(frame, cv2.COLOR_BGR2RGB)\n",
    "            # Make Detections\n",
    "            results = pose.process(image)\n",
    "\n",
    "            # Recolor image back to BGR for rendering\n",
    "            image = cv2.cvtColor(image, cv2.COLOR_RGB2BGR)\n",
    "\n",
    "            # Pose Detections\n",
    "            mp_drawing.draw_landmarks(image, results.pose_landmarks, mp_pose.POSE_CONNECTIONS)\n",
    "\n",
    "            if results.pose_landmarks != None:\n",
    "                key_list= []\n",
    "                t=frame_num/fps_vid\n",
    "                #print(t)\n",
    "                for data_point in results.pose_landmarks.landmark:\n",
    "                    key_list.append([data_point.x,data_point.y,data_point.z,t,data_point.visibility])    \n",
    "                mat = np.array(key_list)\n",
    "                myarray = np.append(myarray,[mat],axis=0)  # append mat to myarray without dummy row\n",
    "\n",
    "            # Display the resulting frame\n",
    "            cv2.imshow('Raw Webcam Feed', image)\n",
    "\n",
    "            if cv2.waitKey(10) & 0xFF == ord('q'):\n",
    "                break\n",
    "        else:\n",
    "            break\n",
    "\n",
    "\n",
    "key_array = myarray  # assign myarray to key_array variable\n",
    "print('last detected frame time: ',key_array[len(key_array)-1, 1, 3])\n",
    "\n",
    "\n",
    "\n",
    "\n",
    "# assume you have a variable called `myarray` that you want to save as a .pkl file\n",
    "output_path = open('new_key_arrays_all/new_test_key_arrays/{}/{}/key_array_{}_{}_{}.pkl'.format(cam_angle,direction,name,direction,vid_no), 'wb')\n",
    "\n",
    "\n",
    "pickle.dump(key_array, output_path)\n",
    "\n",
    "total_frames = int(cap.get(cv2.CAP_PROP_FRAME_COUNT))\n",
    "print(\"Total frames:\", total_frames)\n",
    "print(output_path)\n",
    "print(\"           \")\n",
    "\n",
    "cap.release()\n",
    "cv2.destroyAllWindows()\n"
   ]
  },
  {
   "cell_type": "code",
   "execution_count": null,
   "id": "92a5475b",
   "metadata": {},
   "outputs": [],
   "source": []
  }
 ],
 "metadata": {
  "kernelspec": {
   "display_name": "Python 3 (ipykernel)",
   "language": "python",
   "name": "python3"
  },
  "language_info": {
   "codemirror_mode": {
    "name": "ipython",
    "version": 3
   },
   "file_extension": ".py",
   "mimetype": "text/x-python",
   "name": "python",
   "nbconvert_exporter": "python",
   "pygments_lexer": "ipython3",
   "version": "3.8.15"
  }
 },
 "nbformat": 4,
 "nbformat_minor": 5
}
