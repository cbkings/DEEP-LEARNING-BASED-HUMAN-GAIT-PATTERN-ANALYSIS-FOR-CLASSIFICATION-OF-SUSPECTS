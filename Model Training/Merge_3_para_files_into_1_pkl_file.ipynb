{
 "cells": [
  {
   "cell_type": "code",
   "execution_count": 1,
   "id": "0c43493e",
   "metadata": {},
   "outputs": [],
   "source": [
    "import numpy as np\n",
    "import pandas as pd\n",
    "import pprint, pickle"
   ]
  },
  {
   "cell_type": "code",
   "execution_count": 2,
   "id": "fdc80e11",
   "metadata": {},
   "outputs": [
    {
     "data": {
      "text/plain": [
       "10"
      ]
     },
     "execution_count": 2,
     "metadata": {},
     "output_type": "execute_result"
    }
   ],
   "source": [
    "name_list=['chathura','hasitha','yohan','ravindu','geemanthi','jayasanka','derek','nirmana','dasith','bimsara']\n",
    "len(name_list)"
   ]
  },
  {
   "cell_type": "markdown",
   "id": "5f027cf1",
   "metadata": {},
   "source": [
    "## After running for 3 vid cases, then run this code to merge 3 files into 1 pkl file."
   ]
  },
  {
   "cell_type": "code",
   "execution_count": 3,
   "id": "04ef961f",
   "metadata": {},
   "outputs": [],
   "source": [
    "t=['Static','Dynamic']\n",
    "c=['front','side']"
   ]
  },
  {
   "cell_type": "code",
   "execution_count": 5,
   "id": "cebd561e",
   "metadata": {},
   "outputs": [
    {
     "name": "stdout",
     "output_type": "stream",
     "text": [
      "parameters/Static/front/front/chathura_front.pkl\n",
      "parameters/Static/front/front/hasitha_front.pkl\n",
      "parameters/Static/front/front/yohan_front.pkl\n",
      "parameters/Static/front/front/ravindu_front.pkl\n",
      "parameters/Static/front/front/geemanthi_front.pkl\n",
      "parameters/Static/front/front/jayasanka_front.pkl\n",
      "parameters/Static/front/front/derek_front.pkl\n",
      "parameters/Static/front/front/nirmana_front.pkl\n",
      "parameters/Static/front/front/dasith_front.pkl\n",
      "parameters/Static/front/front/bimsara_front.pkl\n",
      "parameters/Static/front/back/chathura_back.pkl\n",
      "parameters/Static/front/back/hasitha_back.pkl\n",
      "parameters/Static/front/back/yohan_back.pkl\n",
      "parameters/Static/front/back/ravindu_back.pkl\n",
      "parameters/Static/front/back/geemanthi_back.pkl\n",
      "parameters/Static/front/back/jayasanka_back.pkl\n",
      "parameters/Static/front/back/derek_back.pkl\n",
      "parameters/Static/front/back/nirmana_back.pkl\n",
      "parameters/Static/front/back/dasith_back.pkl\n",
      "parameters/Static/front/back/bimsara_back.pkl\n",
      "parameters/Static/side/right/chathura_right.pkl\n",
      "parameters/Static/side/right/hasitha_right.pkl\n",
      "parameters/Static/side/right/yohan_right.pkl\n",
      "parameters/Static/side/right/ravindu_right.pkl\n",
      "parameters/Static/side/right/geemanthi_right.pkl\n",
      "parameters/Static/side/right/jayasanka_right.pkl\n",
      "parameters/Static/side/right/derek_right.pkl\n",
      "parameters/Static/side/right/nirmana_right.pkl\n",
      "parameters/Static/side/right/dasith_right.pkl\n",
      "parameters/Static/side/right/bimsara_right.pkl\n",
      "parameters/Static/side/left/chathura_left.pkl\n",
      "parameters/Static/side/left/hasitha_left.pkl\n",
      "parameters/Static/side/left/yohan_left.pkl\n",
      "parameters/Static/side/left/ravindu_left.pkl\n",
      "parameters/Static/side/left/geemanthi_left.pkl\n",
      "parameters/Static/side/left/jayasanka_left.pkl\n",
      "parameters/Static/side/left/derek_left.pkl\n",
      "parameters/Static/side/left/nirmana_left.pkl\n",
      "parameters/Static/side/left/dasith_left.pkl\n",
      "parameters/Static/side/left/bimsara_left.pkl\n",
      "parameters/Dynamic/front/front/chathura_front.pkl\n",
      "parameters/Dynamic/front/front/hasitha_front.pkl\n",
      "parameters/Dynamic/front/front/yohan_front.pkl\n",
      "parameters/Dynamic/front/front/ravindu_front.pkl\n",
      "parameters/Dynamic/front/front/geemanthi_front.pkl\n",
      "parameters/Dynamic/front/front/jayasanka_front.pkl\n",
      "parameters/Dynamic/front/front/derek_front.pkl\n",
      "parameters/Dynamic/front/front/nirmana_front.pkl\n",
      "parameters/Dynamic/front/front/dasith_front.pkl\n",
      "parameters/Dynamic/front/front/bimsara_front.pkl\n",
      "parameters/Dynamic/front/back/chathura_back.pkl\n",
      "parameters/Dynamic/front/back/hasitha_back.pkl\n",
      "parameters/Dynamic/front/back/yohan_back.pkl\n",
      "parameters/Dynamic/front/back/ravindu_back.pkl\n",
      "parameters/Dynamic/front/back/geemanthi_back.pkl\n",
      "parameters/Dynamic/front/back/jayasanka_back.pkl\n",
      "parameters/Dynamic/front/back/derek_back.pkl\n",
      "parameters/Dynamic/front/back/nirmana_back.pkl\n",
      "parameters/Dynamic/front/back/dasith_back.pkl\n",
      "parameters/Dynamic/front/back/bimsara_back.pkl\n",
      "parameters/Dynamic/side/right/chathura_right.pkl\n",
      "parameters/Dynamic/side/right/hasitha_right.pkl\n",
      "parameters/Dynamic/side/right/yohan_right.pkl\n",
      "parameters/Dynamic/side/right/ravindu_right.pkl\n",
      "parameters/Dynamic/side/right/geemanthi_right.pkl\n",
      "parameters/Dynamic/side/right/jayasanka_right.pkl\n",
      "parameters/Dynamic/side/right/derek_right.pkl\n",
      "parameters/Dynamic/side/right/nirmana_right.pkl\n",
      "parameters/Dynamic/side/right/dasith_right.pkl\n",
      "parameters/Dynamic/side/right/bimsara_right.pkl\n",
      "parameters/Dynamic/side/left/chathura_left.pkl\n",
      "parameters/Dynamic/side/left/hasitha_left.pkl\n",
      "parameters/Dynamic/side/left/yohan_left.pkl\n",
      "parameters/Dynamic/side/left/ravindu_left.pkl\n",
      "parameters/Dynamic/side/left/geemanthi_left.pkl\n",
      "parameters/Dynamic/side/left/jayasanka_left.pkl\n",
      "parameters/Dynamic/side/left/derek_left.pkl\n",
      "parameters/Dynamic/side/left/nirmana_left.pkl\n",
      "parameters/Dynamic/side/left/dasith_left.pkl\n",
      "parameters/Dynamic/side/left/bimsara_left.pkl\n"
     ]
    }
   ],
   "source": [
    "df_data = pd.DataFrame()\n",
    "\n",
    "# Loop through the three video numbers\n",
    "for Type in t:\n",
    "    for cam in c:\n",
    "        if cam == 'front':\n",
    "            d=['front','back']\n",
    "        elif cam == 'side':\n",
    "            d=['right','left']\n",
    "        \n",
    "        for direction in d:\n",
    "            for name in name_list:\n",
    "                for vid_no in range(1, 4):\n",
    "                    # Open the pickle file\n",
    "                    filename_temp = 'parameters/{}/{}/{}/{}_{}_{}.pkl'.format(Type,cam, direction, name, direction, vid_no)\n",
    "                    with open(filename_temp, 'rb') as f_1:\n",
    "                        # Load the data into memory\n",
    "                        temp = pickle.load(f_1)\n",
    "                        # Append the data to the list\n",
    "                        df_data=pd.concat([df_data,temp])\n",
    "\n",
    "                #data_array=df_data.values\n",
    "\n",
    "                # Save the list to a new pickle file\n",
    "                output_file = 'parameters/{}/{}/{}/{}_{}.pkl'.format(Type,cam, direction, name, direction)\n",
    "                print(output_file)\n",
    "                with open(output_file, 'wb') as f_2:\n",
    "                    pickle.dump(df_data, f_2)"
   ]
  },
  {
   "cell_type": "code",
   "execution_count": null,
   "id": "c1d74dba",
   "metadata": {},
   "outputs": [],
   "source": []
  }
 ],
 "metadata": {
  "kernelspec": {
   "display_name": "Python 3 (ipykernel)",
   "language": "python",
   "name": "python3"
  },
  "language_info": {
   "codemirror_mode": {
    "name": "ipython",
    "version": 3
   },
   "file_extension": ".py",
   "mimetype": "text/x-python",
   "name": "python",
   "nbconvert_exporter": "python",
   "pygments_lexer": "ipython3",
   "version": "3.8.15"
  }
 },
 "nbformat": 4,
 "nbformat_minor": 5
}
